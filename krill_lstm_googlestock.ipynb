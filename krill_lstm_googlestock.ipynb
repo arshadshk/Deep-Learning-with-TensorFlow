{
  "nbformat": 4,
  "nbformat_minor": 0,
  "metadata": {
    "colab": {
      "name": "krill_lstm_googlestock.ipynb",
      "provenance": [],
      "collapsed_sections": [],
      "authorship_tag": "ABX9TyPoPr/L9FIA/1RPDtJF0XgR",
      "include_colab_link": true
    },
    "kernelspec": {
      "name": "python3",
      "display_name": "Python 3"
    },
    "accelerator": "GPU"
  },
  "cells": [
    {
      "cell_type": "markdown",
      "metadata": {
        "id": "view-in-github",
        "colab_type": "text"
      },
      "source": [
        "<a href=\"https://colab.research.google.com/github/arshadshk/Deep-Learning-with-TensorFlow/blob/master/krill_lstm_googlestock.ipynb\" target=\"_parent\"><img src=\"https://colab.research.google.com/assets/colab-badge.svg\" alt=\"Open In Colab\"/></a>"
      ]
    },
    {
      "cell_type": "code",
      "metadata": {
        "id": "2NCMggH9wmII",
        "colab_type": "code",
        "colab": {}
      },
      "source": [
        "## Google stock price\n",
        "\n",
        "# predicting the movenet as upward or downward"
      ],
      "execution_count": 0,
      "outputs": []
    },
    {
      "cell_type": "code",
      "metadata": {
        "id": "gIvQPCb0xe2r",
        "colab_type": "code",
        "colab": {}
      },
      "source": [
        "import pandas as pd\n",
        "import matplotlib.pyplot as plt\n",
        "import numpy as np\n",
        "import plotly.express as pt"
      ],
      "execution_count": 0,
      "outputs": []
    },
    {
      "cell_type": "code",
      "metadata": {
        "id": "TIWJBTn_xxcO",
        "colab_type": "code",
        "colab": {}
      },
      "source": [
        "df_tr = pd.read_csv('Google_Stock_Price_Train.csv')\n",
        "df_test = pd.read_csv('Google_Stock_Price_Test.csv')"
      ],
      "execution_count": 0,
      "outputs": []
    },
    {
      "cell_type": "code",
      "metadata": {
        "id": "i8_Ol-ZTx45-",
        "colab_type": "code",
        "colab": {
          "base_uri": "https://localhost:8080/",
          "height": 197
        },
        "outputId": "6077d433-8d5d-4612-9e7a-5edb52576fdb"
      },
      "source": [
        "df_tr.head()"
      ],
      "execution_count": 9,
      "outputs": [
        {
          "output_type": "execute_result",
          "data": {
            "text/html": [
              "<div>\n",
              "<style scoped>\n",
              "    .dataframe tbody tr th:only-of-type {\n",
              "        vertical-align: middle;\n",
              "    }\n",
              "\n",
              "    .dataframe tbody tr th {\n",
              "        vertical-align: top;\n",
              "    }\n",
              "\n",
              "    .dataframe thead th {\n",
              "        text-align: right;\n",
              "    }\n",
              "</style>\n",
              "<table border=\"1\" class=\"dataframe\">\n",
              "  <thead>\n",
              "    <tr style=\"text-align: right;\">\n",
              "      <th></th>\n",
              "      <th>Date</th>\n",
              "      <th>Open</th>\n",
              "      <th>High</th>\n",
              "      <th>Low</th>\n",
              "      <th>Close</th>\n",
              "      <th>Volume</th>\n",
              "    </tr>\n",
              "  </thead>\n",
              "  <tbody>\n",
              "    <tr>\n",
              "      <th>0</th>\n",
              "      <td>1/3/2012</td>\n",
              "      <td>325.25</td>\n",
              "      <td>332.83</td>\n",
              "      <td>324.97</td>\n",
              "      <td>663.59</td>\n",
              "      <td>7,380,500</td>\n",
              "    </tr>\n",
              "    <tr>\n",
              "      <th>1</th>\n",
              "      <td>1/4/2012</td>\n",
              "      <td>331.27</td>\n",
              "      <td>333.87</td>\n",
              "      <td>329.08</td>\n",
              "      <td>666.45</td>\n",
              "      <td>5,749,400</td>\n",
              "    </tr>\n",
              "    <tr>\n",
              "      <th>2</th>\n",
              "      <td>1/5/2012</td>\n",
              "      <td>329.83</td>\n",
              "      <td>330.75</td>\n",
              "      <td>326.89</td>\n",
              "      <td>657.21</td>\n",
              "      <td>6,590,300</td>\n",
              "    </tr>\n",
              "    <tr>\n",
              "      <th>3</th>\n",
              "      <td>1/6/2012</td>\n",
              "      <td>328.34</td>\n",
              "      <td>328.77</td>\n",
              "      <td>323.68</td>\n",
              "      <td>648.24</td>\n",
              "      <td>5,405,900</td>\n",
              "    </tr>\n",
              "    <tr>\n",
              "      <th>4</th>\n",
              "      <td>1/9/2012</td>\n",
              "      <td>322.04</td>\n",
              "      <td>322.29</td>\n",
              "      <td>309.46</td>\n",
              "      <td>620.76</td>\n",
              "      <td>11,688,800</td>\n",
              "    </tr>\n",
              "  </tbody>\n",
              "</table>\n",
              "</div>"
            ],
            "text/plain": [
              "       Date    Open    High     Low   Close      Volume\n",
              "0  1/3/2012  325.25  332.83  324.97  663.59   7,380,500\n",
              "1  1/4/2012  331.27  333.87  329.08  666.45   5,749,400\n",
              "2  1/5/2012  329.83  330.75  326.89  657.21   6,590,300\n",
              "3  1/6/2012  328.34  328.77  323.68  648.24   5,405,900\n",
              "4  1/9/2012  322.04  322.29  309.46  620.76  11,688,800"
            ]
          },
          "metadata": {
            "tags": []
          },
          "execution_count": 9
        }
      ]
    },
    {
      "cell_type": "code",
      "metadata": {
        "id": "DfEjP0O7x-IG",
        "colab_type": "code",
        "colab": {}
      },
      "source": [
        "#pt.line( df_test,   x='Date', y='Open')"
      ],
      "execution_count": 0,
      "outputs": []
    },
    {
      "cell_type": "code",
      "metadata": {
        "id": "cGUVczIOyICU",
        "colab_type": "code",
        "colab": {
          "base_uri": "https://localhost:8080/",
          "height": 34
        },
        "outputId": "9452d140-f7db-4df5-8d98-ee83cdd4923c"
      },
      "source": [
        "# pd column to numpy array\n",
        "\n",
        "training_set = df_tr.iloc[:,1:2].values\n",
        "print(training_set.shape)"
      ],
      "execution_count": 16,
      "outputs": [
        {
          "output_type": "stream",
          "text": [
            "(1258, 1)\n"
          ],
          "name": "stdout"
        }
      ]
    },
    {
      "cell_type": "markdown",
      "metadata": {
        "id": "Y2z-K17XzvZJ",
        "colab_type": "text"
      },
      "source": [
        "## Feature scaling"
      ]
    },
    {
      "cell_type": "code",
      "metadata": {
        "id": "L-MKeyE0zkrW",
        "colab_type": "code",
        "colab": {
          "base_uri": "https://localhost:8080/",
          "height": 34
        },
        "outputId": "3b29f498-fdc1-4e2a-9570-e61a282349e7"
      },
      "source": [
        "\"\"\"\n",
        "standardixzation  =  x - mean /  std\n",
        "\n",
        "normalization = x -min / max - min\n",
        "\n",
        "RNN , if  sigmoid in output ot is recommended to use normalization\n",
        "\"\"\"\n",
        "\n",
        "from sklearn.preprocessing  import MinMaxScaler\n",
        "\n",
        "sc = MinMaxScaler(feature_range=(0,1))\n",
        "training_set_scaled = sc.fit_transform(training_set)\n",
        "print(training_set_scaled[0:5,0])"
      ],
      "execution_count": 17,
      "outputs": [
        {
          "output_type": "stream",
          "text": [
            "[0.08581368 0.09701243 0.09433366 0.09156187 0.07984225]\n"
          ],
          "name": "stdout"
        }
      ]
    },
    {
      "cell_type": "markdown",
      "metadata": {
        "id": "Ex9u_XcI1mmt",
        "colab_type": "text"
      },
      "source": [
        "## Creating a datastructure for RNN"
      ]
    },
    {
      "cell_type": "code",
      "metadata": {
        "id": "RoEpYB_51KHl",
        "colab_type": "code",
        "colab": {}
      },
      "source": [
        "### AUthor tried different timestamps and got 60 gives best results."
      ],
      "execution_count": 0,
      "outputs": []
    },
    {
      "cell_type": "code",
      "metadata": {
        "id": "wKlQix0r1TdA",
        "colab_type": "code",
        "colab": {
          "base_uri": "https://localhost:8080/",
          "height": 34
        },
        "outputId": "7ca942cc-811f-4228-ac77-c8ef21a94701"
      },
      "source": [
        "X_train = []\n",
        "y_train = []\n",
        "\n",
        "for i in range(60,len(training_set_scaled)):\n",
        "  X_train.append(training_set_scaled[i-60:i,0])\n",
        "  y_train.append(training_set_scaled[i,0])\n",
        "\n",
        "# list fo array\n",
        "\n",
        "X_train = np.array(X_train)\n",
        "y_train = np.array(y_train)\n",
        "print(X_train.shape,y_train.shape)"
      ],
      "execution_count": 22,
      "outputs": [
        {
          "output_type": "stream",
          "text": [
            "(1198, 60) (1198,)\n"
          ],
          "name": "stdout"
        }
      ]
    },
    {
      "cell_type": "code",
      "metadata": {
        "id": "mzddKHaF4JDm",
        "colab_type": "code",
        "colab": {
          "base_uri": "https://localhost:8080/",
          "height": 34
        },
        "outputId": "7e65691c-81dd-4fbb-bbc1-c7f37259233e"
      },
      "source": [
        "# Rehsaping the data  For keras input\n",
        "X_train = np.reshape(X_train  ,(X_train.shape[0], X_train.shape[1],1))\n",
        "print(X_train.shape)"
      ],
      "execution_count": 26,
      "outputs": [
        {
          "output_type": "stream",
          "text": [
            "(1198, 60, 1)\n"
          ],
          "name": "stdout"
        }
      ]
    },
    {
      "cell_type": "markdown",
      "metadata": {
        "id": "lPBZTJYU9c1I",
        "colab_type": "text"
      },
      "source": [
        "## Model building_ stacked RNN with droupout regularization"
      ]
    },
    {
      "cell_type": "code",
      "metadata": {
        "id": "uXOPIuLB4K45",
        "colab_type": "code",
        "colab": {
          "base_uri": "https://localhost:8080/",
          "height": 81
        },
        "outputId": "0946fd25-9aad-4341-b24e-010b5547c895"
      },
      "source": [
        "from keras.models import Sequential\n",
        "from keras.layers import Dense, LSTM, Dropout"
      ],
      "execution_count": 27,
      "outputs": [
        {
          "output_type": "stream",
          "text": [
            "Using TensorFlow backend.\n"
          ],
          "name": "stderr"
        },
        {
          "output_type": "display_data",
          "data": {
            "text/html": [
              "<p style=\"color: red;\">\n",
              "The default version of TensorFlow in Colab will soon switch to TensorFlow 2.x.<br>\n",
              "We recommend you <a href=\"https://www.tensorflow.org/guide/migrate\" target=\"_blank\">upgrade</a> now \n",
              "or ensure your notebook will continue to use TensorFlow 1.x via the <code>%tensorflow_version 1.x</code> magic:\n",
              "<a href=\"https://colab.research.google.com/notebooks/tensorflow_version.ipynb\" target=\"_blank\">more info</a>.</p>\n"
            ],
            "text/plain": [
              "<IPython.core.display.HTML object>"
            ]
          },
          "metadata": {
            "tags": []
          }
        }
      ]
    },
    {
      "cell_type": "code",
      "metadata": {
        "id": "wYPlA5x190Yb",
        "colab_type": "code",
        "colab": {}
      },
      "source": [
        "# Initializing the RNN\n",
        "regressor = Sequential()\n",
        "\n",
        "# Adding layers\n",
        "regressor.add(LSTM(units = 50 , return_sequences = True, input_shape = (X_train.shape[1],1)))\n",
        "regressor.add(Dropout(0.2))\n",
        "regressor.add(LSTM(units = 50 , return_sequences = True))\n",
        "regressor.add(Dropout(0.2))\n",
        "regressor.add(LSTM(units = 50 ))\n",
        "regressor.add(Dropout(0.2))\n",
        "regressor.add(Dense(units = 1))"
      ],
      "execution_count": 0,
      "outputs": []
    },
    {
      "cell_type": "code",
      "metadata": {
        "id": "Csj_jjd9_-We",
        "colab_type": "code",
        "colab": {
          "base_uri": "https://localhost:8080/",
          "height": 72
        },
        "outputId": "6c0095a6-3359-40fa-85a6-d9a40c8403ab"
      },
      "source": [
        "# Compiling the model\n",
        "regressor.compile(optimizer='adam', loss = 'mean_squared_error')"
      ],
      "execution_count": 32,
      "outputs": [
        {
          "output_type": "stream",
          "text": [
            "WARNING:tensorflow:From /usr/local/lib/python3.6/dist-packages/keras/optimizers.py:793: The name tf.train.Optimizer is deprecated. Please use tf.compat.v1.train.Optimizer instead.\n",
            "\n"
          ],
          "name": "stdout"
        }
      ]
    },
    {
      "cell_type": "code",
      "metadata": {
        "id": "YBMzB_CgB-cP",
        "colab_type": "code",
        "colab": {
          "base_uri": "https://localhost:8080/",
          "height": 1000
        },
        "outputId": "88a68e06-bb07-4e0a-f902-abc9b849d2d3"
      },
      "source": [
        "# Fitting the model to the trainingset\n",
        "regressor.fit(X_train , y_train, epochs=100 , batch_size=32 )"
      ],
      "execution_count": 33,
      "outputs": [
        {
          "output_type": "stream",
          "text": [
            "WARNING:tensorflow:From /tensorflow-1.15.0/python3.6/tensorflow_core/python/ops/math_grad.py:1424: where (from tensorflow.python.ops.array_ops) is deprecated and will be removed in a future version.\n",
            "Instructions for updating:\n",
            "Use tf.where in 2.0, which has the same broadcast rule as np.where\n",
            "WARNING:tensorflow:From /usr/local/lib/python3.6/dist-packages/keras/backend/tensorflow_backend.py:1033: The name tf.assign_add is deprecated. Please use tf.compat.v1.assign_add instead.\n",
            "\n",
            "WARNING:tensorflow:From /usr/local/lib/python3.6/dist-packages/keras/backend/tensorflow_backend.py:1020: The name tf.assign is deprecated. Please use tf.compat.v1.assign instead.\n",
            "\n",
            "WARNING:tensorflow:From /usr/local/lib/python3.6/dist-packages/keras/backend/tensorflow_backend.py:3005: The name tf.Session is deprecated. Please use tf.compat.v1.Session instead.\n",
            "\n",
            "Epoch 1/100\n",
            "WARNING:tensorflow:From /usr/local/lib/python3.6/dist-packages/keras/backend/tensorflow_backend.py:190: The name tf.get_default_session is deprecated. Please use tf.compat.v1.get_default_session instead.\n",
            "\n",
            "WARNING:tensorflow:From /usr/local/lib/python3.6/dist-packages/keras/backend/tensorflow_backend.py:197: The name tf.ConfigProto is deprecated. Please use tf.compat.v1.ConfigProto instead.\n",
            "\n",
            "WARNING:tensorflow:From /usr/local/lib/python3.6/dist-packages/keras/backend/tensorflow_backend.py:207: The name tf.global_variables is deprecated. Please use tf.compat.v1.global_variables instead.\n",
            "\n",
            "WARNING:tensorflow:From /usr/local/lib/python3.6/dist-packages/keras/backend/tensorflow_backend.py:216: The name tf.is_variable_initialized is deprecated. Please use tf.compat.v1.is_variable_initialized instead.\n",
            "\n",
            "WARNING:tensorflow:From /usr/local/lib/python3.6/dist-packages/keras/backend/tensorflow_backend.py:223: The name tf.variables_initializer is deprecated. Please use tf.compat.v1.variables_initializer instead.\n",
            "\n",
            "1198/1198 [==============================] - 19s 15ms/step - loss: 0.0435\n",
            "Epoch 2/100\n",
            "1198/1198 [==============================] - 9s 8ms/step - loss: 0.0055\n",
            "Epoch 3/100\n",
            "1198/1198 [==============================] - 9s 8ms/step - loss: 0.0051\n",
            "Epoch 4/100\n",
            "1198/1198 [==============================] - 9s 8ms/step - loss: 0.0049\n",
            "Epoch 5/100\n",
            "1198/1198 [==============================] - 9s 8ms/step - loss: 0.0051\n",
            "Epoch 6/100\n",
            "1198/1198 [==============================] - 9s 8ms/step - loss: 0.0039\n",
            "Epoch 7/100\n",
            "1198/1198 [==============================] - 9s 8ms/step - loss: 0.0035\n",
            "Epoch 8/100\n",
            "1198/1198 [==============================] - 9s 8ms/step - loss: 0.0040\n",
            "Epoch 9/100\n",
            "1198/1198 [==============================] - 9s 8ms/step - loss: 0.0043\n",
            "Epoch 10/100\n",
            "1198/1198 [==============================] - 9s 8ms/step - loss: 0.0040\n",
            "Epoch 11/100\n",
            "1198/1198 [==============================] - 9s 8ms/step - loss: 0.0038\n",
            "Epoch 12/100\n",
            "1198/1198 [==============================] - 10s 8ms/step - loss: 0.0034\n",
            "Epoch 13/100\n",
            "1198/1198 [==============================] - 9s 8ms/step - loss: 0.0035\n",
            "Epoch 14/100\n",
            "1198/1198 [==============================] - 9s 8ms/step - loss: 0.0035\n",
            "Epoch 15/100\n",
            "1198/1198 [==============================] - 10s 8ms/step - loss: 0.0033\n",
            "Epoch 16/100\n",
            "1198/1198 [==============================] - 9s 8ms/step - loss: 0.0035\n",
            "Epoch 17/100\n",
            "1198/1198 [==============================] - 9s 8ms/step - loss: 0.0036\n",
            "Epoch 18/100\n",
            "1198/1198 [==============================] - 9s 8ms/step - loss: 0.0035\n",
            "Epoch 19/100\n",
            "1198/1198 [==============================] - 9s 8ms/step - loss: 0.0035\n",
            "Epoch 20/100\n",
            "1198/1198 [==============================] - 9s 8ms/step - loss: 0.0031\n",
            "Epoch 21/100\n",
            "1198/1198 [==============================] - 9s 8ms/step - loss: 0.0030\n",
            "Epoch 22/100\n",
            "1198/1198 [==============================] - 9s 8ms/step - loss: 0.0028\n",
            "Epoch 23/100\n",
            "1198/1198 [==============================] - 9s 8ms/step - loss: 0.0028\n",
            "Epoch 24/100\n",
            "1198/1198 [==============================] - 9s 8ms/step - loss: 0.0033\n",
            "Epoch 25/100\n",
            "1198/1198 [==============================] - 9s 8ms/step - loss: 0.0028\n",
            "Epoch 26/100\n",
            "1198/1198 [==============================] - 9s 8ms/step - loss: 0.0028\n",
            "Epoch 27/100\n",
            "1198/1198 [==============================] - 9s 8ms/step - loss: 0.0028\n",
            "Epoch 28/100\n",
            "1198/1198 [==============================] - 9s 8ms/step - loss: 0.0028\n",
            "Epoch 29/100\n",
            "1198/1198 [==============================] - 9s 8ms/step - loss: 0.0030\n",
            "Epoch 30/100\n",
            "1198/1198 [==============================] - 9s 8ms/step - loss: 0.0025\n",
            "Epoch 31/100\n",
            "1198/1198 [==============================] - 9s 8ms/step - loss: 0.0027\n",
            "Epoch 32/100\n",
            "1198/1198 [==============================] - 9s 8ms/step - loss: 0.0026\n",
            "Epoch 33/100\n",
            "1198/1198 [==============================] - 9s 8ms/step - loss: 0.0025\n",
            "Epoch 34/100\n",
            "1198/1198 [==============================] - 9s 8ms/step - loss: 0.0029\n",
            "Epoch 35/100\n",
            "1198/1198 [==============================] - 9s 8ms/step - loss: 0.0025\n",
            "Epoch 36/100\n",
            "1198/1198 [==============================] - 9s 8ms/step - loss: 0.0029\n",
            "Epoch 37/100\n",
            "1198/1198 [==============================] - 9s 8ms/step - loss: 0.0027\n",
            "Epoch 38/100\n",
            "1198/1198 [==============================] - 9s 8ms/step - loss: 0.0024\n",
            "Epoch 39/100\n",
            "1198/1198 [==============================] - 9s 8ms/step - loss: 0.0025\n",
            "Epoch 40/100\n",
            "1198/1198 [==============================] - 10s 8ms/step - loss: 0.0024\n",
            "Epoch 41/100\n",
            "1198/1198 [==============================] - 9s 8ms/step - loss: 0.0023\n",
            "Epoch 42/100\n",
            "1198/1198 [==============================] - 9s 8ms/step - loss: 0.0025\n",
            "Epoch 43/100\n",
            "1198/1198 [==============================] - 9s 8ms/step - loss: 0.0024\n",
            "Epoch 44/100\n",
            "1198/1198 [==============================] - 9s 8ms/step - loss: 0.0024\n",
            "Epoch 45/100\n",
            "1198/1198 [==============================] - 9s 8ms/step - loss: 0.0023\n",
            "Epoch 46/100\n",
            "1198/1198 [==============================] - 9s 8ms/step - loss: 0.0021\n",
            "Epoch 47/100\n",
            "1198/1198 [==============================] - 9s 8ms/step - loss: 0.0024\n",
            "Epoch 48/100\n",
            "1198/1198 [==============================] - 9s 8ms/step - loss: 0.0021\n",
            "Epoch 49/100\n",
            "1198/1198 [==============================] - 9s 8ms/step - loss: 0.0023\n",
            "Epoch 50/100\n",
            "1198/1198 [==============================] - 9s 8ms/step - loss: 0.0022\n",
            "Epoch 51/100\n",
            "1198/1198 [==============================] - 9s 8ms/step - loss: 0.0022\n",
            "Epoch 52/100\n",
            "1198/1198 [==============================] - 9s 8ms/step - loss: 0.0019\n",
            "Epoch 53/100\n",
            "1198/1198 [==============================] - 9s 8ms/step - loss: 0.0020\n",
            "Epoch 54/100\n",
            "1198/1198 [==============================] - 9s 8ms/step - loss: 0.0021\n",
            "Epoch 55/100\n",
            "1198/1198 [==============================] - 9s 7ms/step - loss: 0.0019\n",
            "Epoch 56/100\n",
            "1198/1198 [==============================] - 9s 8ms/step - loss: 0.0018\n",
            "Epoch 57/100\n",
            "1198/1198 [==============================] - 9s 8ms/step - loss: 0.0020\n",
            "Epoch 58/100\n",
            "1198/1198 [==============================] - 9s 8ms/step - loss: 0.0019\n",
            "Epoch 59/100\n",
            "1198/1198 [==============================] - 9s 8ms/step - loss: 0.0020\n",
            "Epoch 60/100\n",
            "1198/1198 [==============================] - 9s 8ms/step - loss: 0.0018\n",
            "Epoch 61/100\n",
            "1198/1198 [==============================] - 9s 8ms/step - loss: 0.0018\n",
            "Epoch 62/100\n",
            "1198/1198 [==============================] - 9s 8ms/step - loss: 0.0019\n",
            "Epoch 63/100\n",
            "1198/1198 [==============================] - 9s 8ms/step - loss: 0.0017\n",
            "Epoch 64/100\n",
            "1198/1198 [==============================] - 9s 8ms/step - loss: 0.0018\n",
            "Epoch 65/100\n",
            "1198/1198 [==============================] - 9s 7ms/step - loss: 0.0019\n",
            "Epoch 66/100\n",
            "1198/1198 [==============================] - 9s 8ms/step - loss: 0.0018\n",
            "Epoch 67/100\n",
            "1198/1198 [==============================] - 9s 8ms/step - loss: 0.0018\n",
            "Epoch 68/100\n",
            "1198/1198 [==============================] - 9s 8ms/step - loss: 0.0020\n",
            "Epoch 69/100\n",
            "1198/1198 [==============================] - 9s 8ms/step - loss: 0.0017\n",
            "Epoch 70/100\n",
            "1198/1198 [==============================] - 10s 8ms/step - loss: 0.0017\n",
            "Epoch 71/100\n",
            "1198/1198 [==============================] - 9s 8ms/step - loss: 0.0015\n",
            "Epoch 72/100\n",
            "1198/1198 [==============================] - 9s 8ms/step - loss: 0.0015\n",
            "Epoch 73/100\n",
            "1198/1198 [==============================] - 9s 8ms/step - loss: 0.0017\n",
            "Epoch 74/100\n",
            "1198/1198 [==============================] - 9s 8ms/step - loss: 0.0017\n",
            "Epoch 75/100\n",
            "1198/1198 [==============================] - 9s 8ms/step - loss: 0.0017\n",
            "Epoch 76/100\n",
            "1198/1198 [==============================] - 9s 8ms/step - loss: 0.0017\n",
            "Epoch 77/100\n",
            "1198/1198 [==============================] - 9s 8ms/step - loss: 0.0017\n",
            "Epoch 78/100\n",
            "1198/1198 [==============================] - 9s 8ms/step - loss: 0.0015\n",
            "Epoch 79/100\n",
            "1198/1198 [==============================] - 9s 8ms/step - loss: 0.0015\n",
            "Epoch 80/100\n",
            "1198/1198 [==============================] - 9s 8ms/step - loss: 0.0014\n",
            "Epoch 81/100\n",
            "1198/1198 [==============================] - 9s 8ms/step - loss: 0.0015\n",
            "Epoch 82/100\n",
            "1198/1198 [==============================] - 9s 8ms/step - loss: 0.0016\n",
            "Epoch 83/100\n",
            "1198/1198 [==============================] - 9s 8ms/step - loss: 0.0015\n",
            "Epoch 84/100\n",
            "1198/1198 [==============================] - 9s 8ms/step - loss: 0.0015\n",
            "Epoch 85/100\n",
            "1198/1198 [==============================] - 9s 8ms/step - loss: 0.0015\n",
            "Epoch 86/100\n",
            "1198/1198 [==============================] - 9s 8ms/step - loss: 0.0014\n",
            "Epoch 87/100\n",
            "1198/1198 [==============================] - 9s 8ms/step - loss: 0.0014\n",
            "Epoch 88/100\n",
            "1198/1198 [==============================] - 9s 8ms/step - loss: 0.0015\n",
            "Epoch 89/100\n",
            "1198/1198 [==============================] - 9s 8ms/step - loss: 0.0014\n",
            "Epoch 90/100\n",
            "1198/1198 [==============================] - 9s 8ms/step - loss: 0.0013\n",
            "Epoch 91/100\n",
            "1198/1198 [==============================] - 9s 8ms/step - loss: 0.0013\n",
            "Epoch 92/100\n",
            "1198/1198 [==============================] - 9s 8ms/step - loss: 0.0015\n",
            "Epoch 93/100\n",
            "1198/1198 [==============================] - 9s 8ms/step - loss: 0.0013\n",
            "Epoch 94/100\n",
            "1198/1198 [==============================] - 9s 8ms/step - loss: 0.0014\n",
            "Epoch 95/100\n",
            "1198/1198 [==============================] - 9s 7ms/step - loss: 0.0013\n",
            "Epoch 96/100\n",
            "1198/1198 [==============================] - 9s 8ms/step - loss: 0.0013\n",
            "Epoch 97/100\n",
            "1198/1198 [==============================] - 9s 8ms/step - loss: 0.0012\n",
            "Epoch 98/100\n",
            "1198/1198 [==============================] - 9s 8ms/step - loss: 0.0012\n",
            "Epoch 99/100\n",
            "1198/1198 [==============================] - 9s 8ms/step - loss: 0.0013\n",
            "Epoch 100/100\n",
            "1198/1198 [==============================] - 9s 8ms/step - loss: 0.0012\n"
          ],
          "name": "stdout"
        },
        {
          "output_type": "execute_result",
          "data": {
            "text/plain": [
              "<keras.callbacks.History at 0x7f9100db8048>"
            ]
          },
          "metadata": {
            "tags": []
          },
          "execution_count": 33
        }
      ]
    },
    {
      "cell_type": "markdown",
      "metadata": {
        "id": "JQEima-MIRks",
        "colab_type": "text"
      },
      "source": [
        "## Making the predictions and vizualizing the results"
      ]
    },
    {
      "cell_type": "code",
      "metadata": {
        "id": "BgJXu4kXC32X",
        "colab_type": "code",
        "colab": {}
      },
      "source": [
        "real_stock_price = df_test.iloc[:,1:2].values"
      ],
      "execution_count": 0,
      "outputs": []
    },
    {
      "cell_type": "code",
      "metadata": {
        "id": "CjQNeARBLiS0",
        "colab_type": "code",
        "colab": {
          "base_uri": "https://localhost:8080/",
          "height": 34
        },
        "outputId": "d8fada12-7b84-4518-e79c-09b6af939271"
      },
      "source": [
        "dataset_total = pd.concat( (df_tr['Open'],df_test['Open']) , axis= 0 )\n",
        "inputs = dataset_total[len(dataset_total) - len(df_test) - 60 : ].values\n",
        "inputs = inputs.reshape((-1,1))\n",
        "\n",
        "inputs = sc.transform(inputs)          ## scaling\n",
        "X_test = []\n",
        "for i in range(60, 80):\n",
        "  X_test.append(inputs[i-60:i , 0])\n",
        "X_test = np.array(X_test)\n",
        "\n",
        "X_test= np.reshape(X_test, (X_test.shape[0] ,X_test.shape[1] , 1))\n",
        "print(X_test.shape[0])\n",
        "\n",
        "predicted_stock_price = regressor.predict(X_test)\n",
        "\n",
        "predicted_stock_price = sc.inverse_transform(predicted_stock_price)"
      ],
      "execution_count": 60,
      "outputs": [
        {
          "output_type": "stream",
          "text": [
            "20\n"
          ],
          "name": "stdout"
        }
      ]
    },
    {
      "cell_type": "code",
      "metadata": {
        "id": "ouDDx2vmLict",
        "colab_type": "code",
        "colab": {
          "base_uri": "https://localhost:8080/",
          "height": 283
        },
        "outputId": "7bc32b88-b85e-47fe-a50b-28bc706cab84"
      },
      "source": [
        "# vizualizing the results\n",
        "import matplotlib.pyplot as plt\n",
        "\n",
        "plt.plot(real_stock_price, color = 'red' ,label ='Real google stockprice' )\n",
        "plt.plot(predicted_stock_price, color = 'blue' ,label ='Predicted google stockprice' )"
      ],
      "execution_count": 62,
      "outputs": [
        {
          "output_type": "execute_result",
          "data": {
            "text/plain": [
              "[<matplotlib.lines.Line2D at 0x7f90914b0a20>]"
            ]
          },
          "metadata": {
            "tags": []
          },
          "execution_count": 62
        },
        {
          "output_type": "display_data",
          "data": {
            "image/png": "[encoded data removed]",
            "text/plain": [
              "<Figure size 432x288 with 1 Axes>"
            ]
          },
          "metadata": {
            "tags": []
          }
        }
      ]
    },
    {
      "cell_type": "code",
      "metadata": {
        "id": "KbQd2U35G5KN",
        "colab_type": "code",
        "colab": {}
      },
      "source": [
        "from keras.models import save_model"
      ],
      "execution_count": 0,
      "outputs": []
    },
    {
      "cell_type": "code",
      "metadata": {
        "id": "ApVB1zEEH93i",
        "colab_type": "code",
        "colab": {}
      },
      "source": [
        "save_model(regressor, 'gogle.h5')"
      ],
      "execution_count": 0,
      "outputs": []
    },
    {
      "cell_type": "code",
      "metadata": {
        "id": "QsEK9tzzJWFT",
        "colab_type": "code",
        "colab": {}
      },
      "source": [
        ""
      ],
      "execution_count": 0,
      "outputs": []
    }
  ]
}